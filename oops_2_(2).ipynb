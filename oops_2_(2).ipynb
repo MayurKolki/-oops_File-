{
  "nbformat": 4,
  "nbformat_minor": 0,
  "metadata": {
    "kernelspec": {
      "display_name": "Python 3",
      "language": "python",
      "name": "python3"
    },
    "language_info": {
      "codemirror_mode": {
        "name": "ipython",
        "version": 3
      },
      "file_extension": ".py",
      "mimetype": "text/x-python",
      "name": "python",
      "nbconvert_exporter": "python",
      "pygments_lexer": "ipython3",
      "version": "3.8.5"
    },
    "colab": {
      "name": "oops 2 (2).ipynb",
      "provenance": [],
      "include_colab_link": true
    }
  },
  "cells": [
    {
      "cell_type": "markdown",
      "metadata": {
        "id": "view-in-github",
        "colab_type": "text"
      },
      "source": [
        "<a href=\"https://colab.research.google.com/github/MayurKolki/-oops_File-/blob/main/oops_2_(2).ipynb\" target=\"_parent\"><img src=\"https://colab.research.google.com/assets/colab-badge.svg\" alt=\"Open In Colab\"/></a>"
      ]
    },
    {
      "cell_type": "code",
      "metadata": {
        "id": "ENFpSL9-VIFD"
      },
      "source": [
        "class test:\n",
        "    def __init__(self, a , b  , c ,d ) :\n",
        "        self.__a = a \n",
        "        self.b = b\n",
        "        self.c = c \n",
        "        self.d = d \n",
        "    def test_custome(self , v ) : \n",
        "         return v - self.__a\n",
        "    \n",
        "    def __str__(self):\n",
        "        return \"this is my test code for abstraction\""
      ],
      "execution_count": null,
      "outputs": []
    },
    {
      "cell_type": "code",
      "metadata": {
        "id": "FHzaE3VlVIFE"
      },
      "source": [
        "o = test(4,5,6,7)"
      ],
      "execution_count": null,
      "outputs": []
    },
    {
      "cell_type": "code",
      "metadata": {
        "id": "wO_kkU-gVIFE",
        "outputId": "14915ee4-06e5-428e-d5a7-3ebbd0f45a91"
      },
      "source": [
        "o.test_custome(7)"
      ],
      "execution_count": null,
      "outputs": [
        {
          "data": {
            "text/plain": [
              "3"
            ]
          },
          "execution_count": 21,
          "metadata": {},
          "output_type": "execute_result"
        }
      ]
    },
    {
      "cell_type": "code",
      "metadata": {
        "id": "-MWn3rx9VIFE",
        "outputId": "878f3c61-7e38-43e5-d6c0-a4ca5da11d28"
      },
      "source": [
        "o._test__a"
      ],
      "execution_count": null,
      "outputs": [
        {
          "data": {
            "text/plain": [
              "4"
            ]
          },
          "execution_count": 30,
          "metadata": {},
          "output_type": "execute_result"
        }
      ]
    },
    {
      "cell_type": "code",
      "metadata": {
        "id": "duCDIy0AVIFE",
        "outputId": "cd01cb7c-403e-4ad5-fccd-0e2a4381357b"
      },
      "source": [
        "class test1(test):\n",
        "    def __init__(self, j , *args):\n",
        "        super(test1,self).__init__(*args)\n",
        "        self.j = j \n",
        "        \n",
        "m = test1(4,5,6,7,8)\n",
        "m.b\n"
      ],
      "execution_count": null,
      "outputs": [
        {
          "data": {
            "text/plain": [
              "4"
            ]
          },
          "execution_count": 34,
          "metadata": {},
          "output_type": "execute_result"
        }
      ]
    },
    {
      "cell_type": "code",
      "metadata": {
        "id": "m_7mB5ORVIFE",
        "outputId": "92b9a43c-5c26-4ce8-a137-cf801e6480e5"
      },
      "source": [
        "m._test__a"
      ],
      "execution_count": null,
      "outputs": [
        {
          "data": {
            "text/plain": [
              "5"
            ]
          },
          "execution_count": 42,
          "metadata": {},
          "output_type": "execute_result"
        }
      ]
    },
    {
      "cell_type": "code",
      "metadata": {
        "id": "G7bUce67VIFF",
        "outputId": "27ffc0e4-025f-488b-872c-5567df8a2d24"
      },
      "source": [
        "m.test_custome(8)"
      ],
      "execution_count": null,
      "outputs": [
        {
          "data": {
            "text/plain": [
              "3"
            ]
          },
          "execution_count": 36,
          "metadata": {},
          "output_type": "execute_result"
        }
      ]
    },
    {
      "cell_type": "code",
      "metadata": {
        "id": "ssHmEQ4eVIFF",
        "outputId": "ad82af35-ba2a-4cda-a16e-49102d62460e"
      },
      "source": [
        "m.b"
      ],
      "execution_count": null,
      "outputs": [
        {
          "data": {
            "text/plain": [
              "6"
            ]
          },
          "execution_count": 37,
          "metadata": {},
          "output_type": "execute_result"
        }
      ]
    },
    {
      "cell_type": "code",
      "metadata": {
        "id": "fiG2To6mVIFF",
        "outputId": "bed7bba2-552f-4d0f-9d9b-0d885b6297c7"
      },
      "source": [
        "m.c"
      ],
      "execution_count": null,
      "outputs": [
        {
          "data": {
            "text/plain": [
              "7"
            ]
          },
          "execution_count": 38,
          "metadata": {},
          "output_type": "execute_result"
        }
      ]
    },
    {
      "cell_type": "code",
      "metadata": {
        "id": "JsSkawZkVIFF",
        "outputId": "3f820dd1-434c-4505-b61b-8a230ce94f25"
      },
      "source": [
        "m.d"
      ],
      "execution_count": null,
      "outputs": [
        {
          "data": {
            "text/plain": [
              "8"
            ]
          },
          "execution_count": 39,
          "metadata": {},
          "output_type": "execute_result"
        }
      ]
    },
    {
      "cell_type": "code",
      "metadata": {
        "id": "z17fqsr9VIFF"
      },
      "source": [
        "1.create class test and test1\n",
        "2.inherit test and test1 into test2\n",
        "3.function a in test\n",
        "4.function a in test1\n",
        "5.test2 should inherit function-a from test1 and test both\n"
      ],
      "execution_count": null,
      "outputs": []
    },
    {
      "cell_type": "code",
      "metadata": {
        "id": "mDcaTfYtVIFF",
        "outputId": "6aae3ee1-8272-4acb-9068-c249a05f10e7"
      },
      "source": [
        "class test:\n",
        "    def a(self):\n",
        "        print(\"test class\")\n",
        "class test1:\n",
        "    def a(self):\n",
        "        print(\"test1 class\")\n",
        "class test2():\n",
        "    t=test()\n",
        "    t.a()\n",
        "    t1=test1()\n",
        "    t1.a()\n",
        "    #print(\"test2 class\")\n",
        "t2=test2()\n",
        "\n"
      ],
      "execution_count": null,
      "outputs": [
        {
          "name": "stdout",
          "output_type": "stream",
          "text": [
            "test class\n",
            "test1 class\n"
          ]
        }
      ]
    },
    {
      "cell_type": "code",
      "metadata": {
        "id": "LMIT540UVIFF",
        "outputId": "64215aa0-1869-417b-a16a-c2aa38e1946a"
      },
      "source": [
        "class test1():\n",
        "    def A():\n",
        "        print(\"Hello i am from class test1\")\n",
        "class test2():\n",
        "        def A():\n",
        "            print(\"Hello i am from class test2\")\n",
        "\n",
        "class test3(test1,test2):\n",
        "    test1.A()\n",
        "    test2.A()\n"
      ],
      "execution_count": null,
      "outputs": [
        {
          "name": "stdout",
          "output_type": "stream",
          "text": [
            "Hello i am from class test1\n",
            "Hello i am from class test2\n"
          ]
        }
      ]
    },
    {
      "cell_type": "code",
      "metadata": {
        "id": "L2B-0fMbVIFF",
        "outputId": "6c84e206-09b8-4bf3-9283-be84060dac94"
      },
      "source": [
        "class test:\n",
        "    def __init__(self):\n",
        "        pass\n",
        "    def a(self):\n",
        "        return \"This belongs to test.\"\n",
        "        \n",
        "class test1:\n",
        "    def __init__(self):\n",
        "        pass\n",
        "    def a(self):\n",
        "        return \"This belongs to test1.\"\n",
        "class test2(test,test1):\n",
        "        def __init__(self):\n",
        "            pass\n",
        "            \n",
        "o = test2()\n",
        "print(o.a())\n",
        "print(o.a())\n"
      ],
      "execution_count": null,
      "outputs": [
        {
          "name": "stdout",
          "output_type": "stream",
          "text": [
            "This belongs to test.\n",
            "This belongs to test.\n"
          ]
        }
      ]
    },
    {
      "cell_type": "code",
      "metadata": {
        "id": "4RnFA4lyVIFF"
      },
      "source": [
        "class testa:\n",
        "    def __init__(self,a,b,c,d):\n",
        "        self.__a=a\n",
        "        self.b=b\n",
        "        self.c=c\n",
        "        self.d=d\n",
        "    def test_customer(self,v):\n",
        "        return v - self.__a\n",
        "class testb:\n",
        "    def __init__(self,a,b,c,d):\n",
        "        self.__a=a\n",
        "        self.b=b\n",
        "        self.c=c\n",
        "        self.d=d\n",
        "    def test_customer(self,v):\n",
        "        return v - self.b\n",
        "    \n",
        "class testc(testa,testb):\n",
        "    def __init__ (self, j, *args):\n",
        "        super(testa, self).__init__(*args)\n",
        "        self.j= j\n",
        "    def __init__ (self, k, *args):\n",
        "        super(testb, self).__init__(*args)\n",
        "        self.k= k\n"
      ],
      "execution_count": null,
      "outputs": []
    },
    {
      "cell_type": "code",
      "metadata": {
        "id": "9uP2YkMWVIFG",
        "outputId": "c4341cc6-d2a1-4709-9c6a-dbaeed509b6a"
      },
      "source": [
        "class Test:\n",
        "    def a(self):\n",
        "        return \"This is class Test\"\n",
        "\n",
        "class Test1:\n",
        "    def a(self):\n",
        "        return \"This is class Test1\"\n",
        "\n",
        "class Test2(Test, Test1):\n",
        "    \"\"\"Test class methods overrides Test1 class methods\"\"\"\n",
        "    pass\n",
        "\n",
        "t2 = Test2()\n",
        "print(t2.a())\n",
        "\n",
        "class Test2(Test1, Test):\n",
        "    \"\"\"Test1 class methods overrides Test class methods\"\"\"\n",
        "    pass\n",
        "\n",
        "t2_ = Test2()\n",
        "print(t2_.a())\n"
      ],
      "execution_count": null,
      "outputs": [
        {
          "name": "stdout",
          "output_type": "stream",
          "text": [
            "This is class Test\n",
            "This is class Test1\n"
          ]
        }
      ]
    },
    {
      "cell_type": "code",
      "metadata": {
        "id": "JqdvvdJ8VIFG"
      },
      "source": [
        "class A:\n",
        "    def a(self):\n",
        "        return \"This is A ==> a method\"\n",
        "\n",
        "class B: \n",
        "    def a(self):\n",
        "        return \"This is B ==> a method\"\n",
        "\n",
        "class C(A,B):\n",
        "    def a(self):\n",
        "        return super(A,self).a()\n",
        "    \n",
        "    def a(self):\n",
        "        return super(B,self).a()\n"
      ],
      "execution_count": null,
      "outputs": []
    },
    {
      "cell_type": "code",
      "metadata": {
        "id": "hPiDSx30VIFG",
        "outputId": "3197d4b0-4f28-4826-a7b4-bd273a3b4c3d"
      },
      "source": [
        "c= C()\n",
        "c.a()"
      ],
      "execution_count": null,
      "outputs": [
        {
          "ename": "AttributeError",
          "evalue": "'super' object has no attribute 'a'",
          "output_type": "error",
          "traceback": [
            "\u001b[1;31m---------------------------------------------------------------------------\u001b[0m",
            "\u001b[1;31mAttributeError\u001b[0m                            Traceback (most recent call last)",
            "\u001b[1;32m<ipython-input-58-ecc19922f645>\u001b[0m in \u001b[0;36m<module>\u001b[1;34m\u001b[0m\n\u001b[0;32m      1\u001b[0m \u001b[0mc\u001b[0m\u001b[1;33m=\u001b[0m \u001b[0mC\u001b[0m\u001b[1;33m(\u001b[0m\u001b[1;33m)\u001b[0m\u001b[1;33m\u001b[0m\u001b[1;33m\u001b[0m\u001b[0m\n\u001b[1;32m----> 2\u001b[1;33m \u001b[0mc\u001b[0m\u001b[1;33m.\u001b[0m\u001b[0ma\u001b[0m\u001b[1;33m(\u001b[0m\u001b[1;33m)\u001b[0m\u001b[1;33m\u001b[0m\u001b[1;33m\u001b[0m\u001b[0m\n\u001b[0m",
            "\u001b[1;32m<ipython-input-56-644af212cc6c>\u001b[0m in \u001b[0;36ma\u001b[1;34m(self)\u001b[0m\n\u001b[0;32m     12\u001b[0m \u001b[1;33m\u001b[0m\u001b[0m\n\u001b[0;32m     13\u001b[0m     \u001b[1;32mdef\u001b[0m \u001b[0ma\u001b[0m\u001b[1;33m(\u001b[0m\u001b[0mself\u001b[0m\u001b[1;33m)\u001b[0m\u001b[1;33m:\u001b[0m\u001b[1;33m\u001b[0m\u001b[1;33m\u001b[0m\u001b[0m\n\u001b[1;32m---> 14\u001b[1;33m         \u001b[1;32mreturn\u001b[0m \u001b[0msuper\u001b[0m\u001b[1;33m(\u001b[0m\u001b[0mB\u001b[0m\u001b[1;33m,\u001b[0m\u001b[0mself\u001b[0m\u001b[1;33m)\u001b[0m\u001b[1;33m.\u001b[0m\u001b[0ma\u001b[0m\u001b[1;33m(\u001b[0m\u001b[1;33m)\u001b[0m\u001b[1;33m\u001b[0m\u001b[1;33m\u001b[0m\u001b[0m\n\u001b[0m",
            "\u001b[1;31mAttributeError\u001b[0m: 'super' object has no attribute 'a'"
          ]
        }
      ]
    },
    {
      "cell_type": "code",
      "metadata": {
        "id": "yh8q6TM6VIFG"
      },
      "source": [
        "class test:\n",
        "    def a():\n",
        "        return \"This belongs to test\"\n",
        "\n",
        "class test1:\n",
        "    def a():\n",
        "        return \"This belongs to test1\"\n",
        "\n",
        "class test2(test,test1):\n",
        "    def e():\n",
        "        super(test).a()\n",
        "    def j():\n",
        "        super(test1).a()\n"
      ],
      "execution_count": null,
      "outputs": []
    },
    {
      "cell_type": "code",
      "metadata": {
        "id": "jR9yP335VIFG"
      },
      "source": [
        "t = test2()"
      ],
      "execution_count": null,
      "outputs": []
    },
    {
      "cell_type": "code",
      "metadata": {
        "id": "etimtRiLVIFG",
        "outputId": "5276a07d-cc70-4ac9-b5df-dd06ee4c22f5"
      },
      "source": [
        "t.e()"
      ],
      "execution_count": null,
      "outputs": [
        {
          "ename": "TypeError",
          "evalue": "e() takes 0 positional arguments but 1 was given",
          "output_type": "error",
          "traceback": [
            "\u001b[1;31m---------------------------------------------------------------------------\u001b[0m",
            "\u001b[1;31mTypeError\u001b[0m                                 Traceback (most recent call last)",
            "\u001b[1;32m<ipython-input-65-e5fcf2b8fc1f>\u001b[0m in \u001b[0;36m<module>\u001b[1;34m\u001b[0m\n\u001b[1;32m----> 1\u001b[1;33m \u001b[0mt\u001b[0m\u001b[1;33m.\u001b[0m\u001b[0me\u001b[0m\u001b[1;33m(\u001b[0m\u001b[1;33m)\u001b[0m\u001b[1;33m\u001b[0m\u001b[1;33m\u001b[0m\u001b[0m\n\u001b[0m",
            "\u001b[1;31mTypeError\u001b[0m: e() takes 0 positional arguments but 1 was given"
          ]
        }
      ]
    },
    {
      "cell_type": "code",
      "metadata": {
        "id": "4rtgwq_nVIFG",
        "outputId": "d4f88142-e537-4bbe-a3c8-fcd0514e71d5"
      },
      "source": [
        "class test:\n",
        "    \n",
        "    def a(self):\n",
        "        print('function a from class test')\n",
        "\n",
        "class test1:\n",
        "    def a(self):\n",
        "        print('function a from class test1')\n",
        "\n",
        "class test2():\n",
        "    def a(self):\n",
        "        test.a(self)\n",
        "        test1.a(self)\n",
        "        \n",
        "t = test2()\n",
        "t.a()\n"
      ],
      "execution_count": null,
      "outputs": [
        {
          "name": "stdout",
          "output_type": "stream",
          "text": [
            "function a from class test\n",
            "function a from class test1\n"
          ]
        }
      ]
    },
    {
      "cell_type": "code",
      "metadata": {
        "id": "iocImqcGVIFG",
        "outputId": "1ecf95c8-436f-40d6-c3bb-a4ed6da96589"
      },
      "source": [
        "class test:\n",
        "   \n",
        "    def a(self):\n",
        "        print(\"This is from class test\")\n",
        "        \n",
        "class test1:\n",
        "    \n",
        "    def a(self):\n",
        "        print(\"This is from class test1\")\n",
        "        \n",
        "\n",
        "        \n",
        "class test2(test,test1):\n",
        "    def a(self):\n",
        "        super(test2,self).a()\n",
        "        \n",
        "    \n",
        "    \n",
        "    \n",
        "t2=test2()\n",
        "t2.a()\n"
      ],
      "execution_count": null,
      "outputs": [
        {
          "name": "stdout",
          "output_type": "stream",
          "text": [
            "This is from class test\n"
          ]
        }
      ]
    },
    {
      "cell_type": "code",
      "metadata": {
        "id": "ObPqvMXQVIFG",
        "outputId": "629bae9b-39a0-48c8-b2dc-9c72a3342b5d"
      },
      "source": [
        "class test:\n",
        "    def a(self):\n",
        "        print(\"this belongs to test\")\n",
        "class test1:\n",
        "    def a(self):\n",
        "        print(\"this belongs to test1\")\n",
        "        \n",
        "        \n",
        "class test2(test,test1):\n",
        "    def c(self):\n",
        "        print(\"test2\")\n",
        "obj = test2()\n",
        "obj.c()\n",
        "obj.a()\n",
        "test1.a(obj)\n"
      ],
      "execution_count": null,
      "outputs": [
        {
          "name": "stdout",
          "output_type": "stream",
          "text": [
            "test2\n",
            "this belongs to test\n",
            "this belongs to test1\n"
          ]
        }
      ]
    },
    {
      "cell_type": "code",
      "metadata": {
        "id": "U8UMs-4qVIFG",
        "outputId": "d38a4ec3-09ad-4a8e-8892-0379d0faf51f"
      },
      "source": [
        "class test:\n",
        "    def a(self):\n",
        "        return 'this a function of class test'\n",
        "ob1=test()\n",
        "\n",
        "class test1:\n",
        "    def a(self):\n",
        "        return 'this a function of class test1'\n",
        "ob2=test1()\n",
        "\n",
        "\n",
        "\n",
        "class test2(test,test1):\n",
        "    def x(self):\n",
        "        return ob1.a(),ob2.a()\n",
        "    \n",
        "ob3=test2()\n",
        "c1,c2=ob3.x()\n",
        "print(c1)\n",
        "print(c2)\n"
      ],
      "execution_count": null,
      "outputs": [
        {
          "name": "stdout",
          "output_type": "stream",
          "text": [
            "this a function of class test\n",
            "this a function of class test1\n"
          ]
        }
      ]
    },
    {
      "cell_type": "code",
      "metadata": {
        "id": "AGJVaJk4VIFH",
        "outputId": "340695f2-e947-404b-9539-db3ac484172c"
      },
      "source": [
        "class Class1:\n",
        "    def m(self):\n",
        "        print(\"In Class1\")\n",
        "  \n",
        "\n",
        "class Class2(Class1):\n",
        "    def m(self):\n",
        "        print(\"In Class2\")\n",
        "        super().m()\n",
        "  \n",
        " \n",
        "class Class4(Class2, Class1):\n",
        "        def m(self):\n",
        "            print(\"In Class4\")   \n",
        "            super().m()\n",
        "    \n",
        "\n",
        "Class4.m()\n"
      ],
      "execution_count": null,
      "outputs": [
        {
          "ename": "TypeError",
          "evalue": "m() missing 1 required positional argument: 'self'",
          "output_type": "error",
          "traceback": [
            "\u001b[1;31m---------------------------------------------------------------------------\u001b[0m",
            "\u001b[1;31mTypeError\u001b[0m                                 Traceback (most recent call last)",
            "\u001b[1;32m<ipython-input-75-08c16ed09cfe>\u001b[0m in \u001b[0;36m<module>\u001b[1;34m\u001b[0m\n\u001b[0;32m     16\u001b[0m \u001b[1;33m\u001b[0m\u001b[0m\n\u001b[0;32m     17\u001b[0m \u001b[1;33m\u001b[0m\u001b[0m\n\u001b[1;32m---> 18\u001b[1;33m \u001b[0mClass4\u001b[0m\u001b[1;33m.\u001b[0m\u001b[0mm\u001b[0m\u001b[1;33m(\u001b[0m\u001b[1;33m)\u001b[0m\u001b[1;33m\u001b[0m\u001b[1;33m\u001b[0m\u001b[0m\n\u001b[0m",
            "\u001b[1;31mTypeError\u001b[0m: m() missing 1 required positional argument: 'self'"
          ]
        }
      ]
    },
    {
      "cell_type": "code",
      "metadata": {
        "id": "KK68AwUaVIFH",
        "outputId": "4fe1b6ed-8e40-44fb-a079-acbc9fffa0a1"
      },
      "source": [
        "class test:\n",
        "\tdef A(self):\n",
        "\t\tprint(\"In Class test\")\n",
        "\t\t\n",
        "class test1(test):\n",
        "\tdef A(self):\n",
        "\t\tprint(\"In Class test1\")\n",
        "\n",
        "class test2(test1):\n",
        "    pass\n",
        "\n",
        "obj = test2()\n",
        "test.A(obj)\n",
        "test1.A(obj)\n"
      ],
      "execution_count": null,
      "outputs": [
        {
          "name": "stdout",
          "output_type": "stream",
          "text": [
            "In Class test\n",
            "In Class test1\n"
          ]
        }
      ]
    },
    {
      "cell_type": "code",
      "metadata": {
        "id": "bIqyIeB-VIFH",
        "outputId": "b6e19ddc-6ca3-41cc-a880-a2ed05f75910"
      },
      "source": [
        "class Ineuron:\n",
        "    company_website = 'https://ineuron.ai/'\n",
        "    name = 'iNeuron'\n",
        " \n",
        "    def contact_details(self):\n",
        "        print('Contact us at ', self.company_website)\n",
        " \n",
        " \n",
        "class Datascience(Ineuron):\n",
        "    def __init__(self):\n",
        "        self.year_of_establishment= 2018\n",
        " \n",
        "    def est_details(self):\n",
        "        print('{0} Company was established in {1}'\n",
        "              .format(self.name,self.year_of_establishment))\n",
        " \n",
        " \n",
        "ds = Datascience()\n",
        "ds.est_details()"
      ],
      "execution_count": null,
      "outputs": [
        {
          "name": "stdout",
          "output_type": "stream",
          "text": [
            "iNeuron Company was established in 2018\n"
          ]
        }
      ]
    },
    {
      "cell_type": "code",
      "metadata": {
        "id": "wu4ySRVeVIFH",
        "outputId": "58207c5c-c1b7-4153-e6c6-2460b1286158"
      },
      "source": [
        "class OS:\n",
        "    multi_task = True\n",
        "    os_name = 'Windows OS'\n",
        "    name = \"sudh\"\n",
        " \n",
        " \n",
        "class windows(OS, Ineuron):\n",
        "    def __init__(self):\n",
        "        if self.multi_task is True:\n",
        "            print('multi_task')\n",
        "        print('Name: {}'.format(self.name))\n",
        " \n",
        " \n",
        "windows = windows()\n",
        " "
      ],
      "execution_count": null,
      "outputs": [
        {
          "name": "stdout",
          "output_type": "stream",
          "text": [
            "multi_task\n",
            "Name: sudh\n"
          ]
        }
      ]
    },
    {
      "cell_type": "code",
      "metadata": {
        "id": "TDVDBNN_VIFH",
        "outputId": "1126eb61-951e-4767-c106-5572813070ac"
      },
      "source": [
        "class windows(Ineuron,OS):\n",
        "    def __init__(self):\n",
        "        if self.multi_task is True:\n",
        "            print('multi_task')\n",
        "        print('Name: {}'.format(self.name))\n",
        " \n",
        " \n",
        "windows = windows()"
      ],
      "execution_count": null,
      "outputs": [
        {
          "name": "stdout",
          "output_type": "stream",
          "text": [
            "multi_task\n",
            "Name: iNeuron\n"
          ]
        }
      ]
    },
    {
      "cell_type": "code",
      "metadata": {
        "id": "8r3XKUsQVIFH",
        "outputId": "089e572a-38ef-4115-ae48-8495233f757b"
      },
      "source": [
        "class iNeuron:\n",
        "    num_of_courses = 12\n",
        " \n",
        " \n",
        "class Datascience(iNeuron):\n",
        "    course_type = 'Data-Science'\n",
        " \n",
        " \n",
        "class AI(Datascience):\n",
        "    def __init__(self):\n",
        "        self.company = \"iNeuron\"\n",
        "        print('The company {0} offers total {1} different types of courses. Most trending course is {2}'.format(self.company,self.num_of_courses,self.course_type))\n",
        " \n",
        " \n",
        "AI = AI()"
      ],
      "execution_count": null,
      "outputs": [
        {
          "name": "stdout",
          "output_type": "stream",
          "text": [
            "The company iNeuron offers total 12 different types of courses. Most trending course is Data-Science\n"
          ]
        }
      ]
    },
    {
      "cell_type": "code",
      "metadata": {
        "id": "8vh-rGqKVIFI"
      },
      "source": [
        "import sqlite3\n",
        "\n",
        "class DataBaseOperations:\n",
        "\n",
        "    def __init__(self,databasename):\n",
        "        \n",
        "        self.databasename = databasename\n",
        "\n",
        "    def createDatabase(self):\n",
        "        try:\n",
        "            conn = sqlite3.connect(self.databasename)\n",
        "        except ConnectionError:\n",
        "            raise ConnectionError\n",
        "        return conn\n",
        "\n",
        "    def createTable(self,tablename,dictionaryOfcolumnNamesAndcolumnDatatypes):\n",
        "        try:\n",
        "            conn = self.createDatabase()\n",
        "            c = conn.cursor()\n",
        "            for key in dictionaryOfcolumnNamesAndcolumnDatatypes.keys():\n",
        "                datatype = dictionaryOfcolumnNamesAndcolumnDatatypes[key]\n",
        "                try:\n",
        "                    conn.execute(\n",
        "                        'ALTER TABLE {tableName} ADD COLUMN \"{column_name}\" {dataType}'.format(tableName=tablename,\n",
        "                                                                                               column_name=key,\n",
        "                                                                                               dataType=datatype))\n",
        "                except:\n",
        "                    conn.execute('CREATE TABLE {tableName} ({column_name} {dataType})'.format(tableName=tablename,\n",
        "                                                                                              column_name=key,\n",
        "                                                                                              dataType=datatype))\n",
        "            print(\"Table {0} created in database {1}\".format(tablename,self.databasename))\n",
        "            self.closeDbConnection(conn)\n",
        "            print(\"Connection to database closed!!\")\n",
        "        except Exception as e:\n",
        "            conn.rollback()\n",
        "            self.closeDbConnection(conn)\n",
        "            print(\"Connection to database closed!!\")\n",
        "\n",
        "            print(\"Exception occured: \" + str(e))\n",
        "\n",
        "    def insertIntoTable(self,tablename, listOfvaluesToInsert):\n",
        "        try:\n",
        "            conn = self.createDatabase()\n",
        "            conn.execute('INSERT INTO {tablename}  values ({values})'.format(tablename = tablename,values=(listOfvaluesToInsert)))\n",
        "            conn.commit()\n",
        "            print(\"Values Inserted Successfully!!!\")\n",
        "            self.closeDbConnection(conn)\n",
        "            print(\"Connection to database closed!!\")\n",
        "        except Exception as e:\n",
        "            conn.rollback()\n",
        "            self.closeDbConnection(conn)\n",
        "            print(\"Connection to database closed!!\")\n",
        "            print(\"Error occured: \" + str(e))\n",
        "\n",
        "        # self.closeDbconnection()\n",
        "    \n",
        "    def selectFromTable(self,tablename):\n",
        "\n",
        "        try:\n",
        "            conn = self.createDatabase()\n",
        "            c = conn.cursor()\n",
        "            c.execute(\"SELECT *  FROM {table}\".format(table=tablename))\n",
        "            print(\"values in table : \" ,c.fetchall())\n",
        "            self.closeDbConnection(conn)\n",
        "            print(\"Connection to database closed!!\")\n",
        "            \n",
        "        except Exception as e:\n",
        "            self.closeDbConnection(conn)\n",
        "            print(\"Connection to database closed!!\")\n",
        "            print(\"Error occured: \" + str(e))\n",
        "    \n",
        "    def closeDbConnection(self,connection):\n",
        "       \n",
        "        connection.close()"
      ],
      "execution_count": null,
      "outputs": []
    },
    {
      "cell_type": "code",
      "metadata": {
        "id": "Vns_5kPIVIFI"
      },
      "source": [
        "class StudentMarks(DataBaseOperations): # inheriting the DatabaseOperation class\n",
        "    \n",
        "    def __init__ (self, ID, RollNumber, Marks):\n",
        "        \n",
        "        self.id= ID\n",
        "        self.RollNum = RollNumber\n",
        "        self.Marks = Marks\n",
        "        self.databasename = \"StudentDetails\""
      ],
      "execution_count": null,
      "outputs": []
    },
    {
      "cell_type": "code",
      "metadata": {
        "id": "dU4LokQwVIFI"
      },
      "source": [
        "student1 = StudentMarks(23,34,76)"
      ],
      "execution_count": null,
      "outputs": []
    },
    {
      "cell_type": "code",
      "metadata": {
        "id": "j_Na9uafVIFJ"
      },
      "source": [
        "student1.createDatabase()"
      ],
      "execution_count": null,
      "outputs": []
    },
    {
      "cell_type": "code",
      "metadata": {
        "id": "0gY4iZm9VIFJ"
      },
      "source": [
        "#encaptulation "
      ],
      "execution_count": null,
      "outputs": []
    },
    {
      "cell_type": "code",
      "metadata": {
        "id": "lUKxb7p8VIFJ"
      },
      "source": [
        "class test:\n",
        "    def __init__(self, a,b,c):\n",
        "        self.a =a \n",
        "        self.b = b\n",
        "        self.c = c \n",
        "        \n",
        "    def __str__(self):\n",
        "        return \"this is the return form my test class \"\n",
        "\n",
        "    \n",
        "class test1 :\n",
        "    def __init__(self, a,b,c):\n",
        "        self.a =a \n",
        "        self.b = b\n",
        "        self.c = c \n",
        "        \n",
        "    def __str__(self):\n",
        "        return \"this is the return form my test1 class \"\n",
        "    \n",
        "class test2:\n",
        "    \n",
        "    def __init__(self, a,b,c):\n",
        "        self.a = a \n",
        "        self.b = b\n",
        "        self.c = c \n",
        "        \n",
        "    def __str__(self):\n",
        "        return \"this is the return form my test2 class \"\n",
        "\n",
        "class final:\n",
        "    \n",
        "    def __init__(self,x,y,z):\n",
        "        self.x= x\n",
        "        self.y= y\n",
        "        self.z = z\n",
        "        \n",
        "    def __str__(self) : \n",
        "        \n",
        "        return str(self.x) + \"  \" + str(self.y) + \"  \" + str(self.z)\n"
      ],
      "execution_count": null,
      "outputs": []
    },
    {
      "cell_type": "code",
      "metadata": {
        "id": "iZ6_HGiHVIFJ"
      },
      "source": [
        "t= test(4,5,6)\n",
        "t1 = test1(3,4,5)\n",
        "t2 = test2(5,6,7)\n",
        "f = final(t,t1,\"sudh\")\n"
      ],
      "execution_count": null,
      "outputs": []
    },
    {
      "cell_type": "code",
      "metadata": {
        "id": "EJL1Zk2OVIFJ",
        "outputId": "182a8060-022a-4634-c4dc-9830480c2281"
      },
      "source": [
        "print(f)"
      ],
      "execution_count": null,
      "outputs": [
        {
          "name": "stdout",
          "output_type": "stream",
          "text": [
            "this is the return form my test class   this is the return form my test1 class   sudh\n"
          ]
        }
      ]
    },
    {
      "cell_type": "code",
      "metadata": {
        "id": "B9ylqt02VIFJ",
        "outputId": "d931e321-947d-4f50-c9db-7fb453037bf1"
      },
      "source": [
        "class Tyres:\n",
        "    def __init__(self, branch, belted_bias, opt_pressure):\n",
        "        self.branch = branch\n",
        "        self.belted_bias = belted_bias\n",
        "        self.opt_pressure = opt_pressure\n",
        "        \n",
        "    def __str__(self):\n",
        "        return (\"Tyres: \\n \\tBranch: \" + self.branch +\n",
        "               \"\\n \\tBelted-bias: \" + str(self.belted_bias) + \n",
        "               \"\\n \\tOptimal pressure: \" + str(self.opt_pressure))\n",
        "        \n",
        "class Engine:\n",
        "    def __init__(self, fuel_type, noise_level):\n",
        "        self.fuel_type = fuel_type\n",
        "        self.noise_level = noise_level\n",
        "        \n",
        "    def __str__(self):\n",
        "        return (\"Engine: \\n \\tFuel type: \" + self.fuel_type +\n",
        "                \"\\n \\tNoise level:\" + str(self.noise_level))\n",
        "        \n",
        "class Body:\n",
        "    def __init__(self, size):\n",
        "        self.size = size\n",
        "        \n",
        "    def __str__(self):\n",
        "        return \"Body:\\n \\tSize: \" + self.size\n",
        "        \n",
        "class Car:\n",
        "    def __init__(self,name ,  tyres, engine, body):\n",
        "        self.name = name \n",
        "        self.tyres = tyres\n",
        "        self.engine = engine\n",
        "        self.body = body\n",
        "        \n",
        "    def __str__(self):\n",
        "        return str(self.tyres) + \"\\n\" + str(self.engine) + \"\\n\" + str(self.body) + \" \" + str(self.name)\n",
        "\n",
        "        \n",
        "t = Tyres('Pirelli', True, 2.0)\n",
        "e = Engine('Diesel', 3)\n",
        "b = Body('Medium')\n",
        "c = Car(\"toyota\",t, e, b)\n",
        "print(c)"
      ],
      "execution_count": null,
      "outputs": [
        {
          "name": "stdout",
          "output_type": "stream",
          "text": [
            "Tyres: \n",
            " \tBranch: Pirelli\n",
            " \tBelted-bias: True\n",
            " \tOptimal pressure: 2.0\n",
            "Engine: \n",
            " \tFuel type: Diesel\n",
            " \tNoise level:3\n",
            "Body:\n",
            " \tSize: Medium toyota\n"
          ]
        }
      ]
    },
    {
      "cell_type": "code",
      "metadata": {
        "id": "H3X53A20VIFJ"
      },
      "source": [
        "class parent :\n",
        "    \n",
        "    a = 10 \n",
        "    b = 40 \n",
        "    \n",
        "    def __init__(self,parent_a , parent_b):\n",
        "        self.parent_a = parent_a\n",
        "        self.parent_b = parent_b\n",
        "        \n",
        "class child(parent):\n",
        "    def __init__(self, *args):\n",
        "        super(child,self).__init__(*args)\n",
        "    "
      ],
      "execution_count": null,
      "outputs": []
    },
    {
      "cell_type": "code",
      "metadata": {
        "id": "axxuCW_mVIFJ",
        "outputId": "ce956439-9d76-4567-be22-b32b4ae0c993"
      },
      "source": [
        "class Dog:\n",
        "    def __init__(self, name, year_of_birth, breed):\n",
        "        self._name = name\n",
        "        self._year_of_birth = year_of_birth\n",
        "        self._breed = breed\n",
        "\n",
        "    def __str__(self):\n",
        "        return \"%s is a %s born in %d.\" % (self._name, self._breed, self._year_of_birth)\n",
        "\n",
        "kudrjavka = Dog(\"Kudrjavka\", 1954, \"Laika\")\n",
        "dog1 = Dog(\"german\" ,565 , \"coco\")\n",
        "dog2= Dog(\"german\" ,565 , \"coco\")\n",
        "dog3= Dog(\"german\" ,565 , \"coco\")\n",
        "dog4= Dog(\"german\" ,565 , \"coco\")\n",
        "dog5 = Dog(\"german\" ,565 , \"coco\")\n",
        "\n",
        "dog6= Dog(\"german\" ,565 , \"coco\")\n",
        "\n",
        "\n",
        "print(kudrjavka)"
      ],
      "execution_count": null,
      "outputs": [
        {
          "name": "stdout",
          "output_type": "stream",
          "text": [
            "Kudrjavka is a Laika born in 1954.\n"
          ]
        }
      ]
    },
    {
      "cell_type": "code",
      "metadata": {
        "id": "k2NmMYZrVIFK"
      },
      "source": [
        "class student:\n",
        "    \n",
        "    def __init__(self,name, student_id,school_name, address):\n",
        "        self.name = name \n",
        "        self.student_id = student_id\n",
        "        self.school_name = school_name\n",
        "        self.address = address\n",
        "        \n",
        "        \n",
        "    def __str__(self):\n",
        "        return str(self.name) + \"  \" + str(self.student_id) + \"   \" + str(self.school_name) + \"  \"+ str( self.address)"
      ],
      "execution_count": null,
      "outputs": []
    },
    {
      "cell_type": "code",
      "metadata": {
        "id": "NZzaGky_VIFK",
        "outputId": "adaba3ad-4c2b-404b-f8f8-8335e5e3071f"
      },
      "source": [
        "stu = student(\"sudh\" , 454 , \"iNeuron\" , \"xyz\") \n",
        "print(stu)"
      ],
      "execution_count": null,
      "outputs": [
        {
          "name": "stdout",
          "output_type": "stream",
          "text": [
            "sudh  454   iNeuron  xyz\n"
          ]
        }
      ]
    },
    {
      "cell_type": "code",
      "metadata": {
        "id": "g0Z5WlHUVIFK",
        "outputId": "2f671dff-0893-4a47-963d-23ee869ec71c"
      },
      "source": [
        "dog = student(kudrjavka , 45 , \"dog_sch\" , \"sdfdsf\")\n",
        "print(dog)"
      ],
      "execution_count": null,
      "outputs": [
        {
          "name": "stdout",
          "output_type": "stream",
          "text": [
            "Kudrjavka is a Laika born in 1954.  45   dog_sch  sdfdsf\n"
          ]
        }
      ]
    },
    {
      "cell_type": "code",
      "metadata": {
        "id": "aevyW2yCVIFK"
      },
      "source": [
        "dog1 = student(dog1 , 45 , \"dog_sch\" , \"sdfdsf\")"
      ],
      "execution_count": null,
      "outputs": []
    },
    {
      "cell_type": "code",
      "metadata": {
        "id": "iCZy-0m8VIFK"
      },
      "source": [
        "class BonusDistribution:\n",
        "    \n",
        "    def __init__ (self,employeeId, employeeRating):\n",
        "    \n",
        "        self.empId = employeeId\n",
        "        self.empRating = employeeRating\n",
        "        self.__bonusforRatingA = \"70%\"  #making value private\n",
        "        self.__bonusforRatingB = \"60%\"  #making value private\n",
        "        self.__bonusforRatingC = \"50%\"  #making value private\n",
        "        self.__bonusforRatingD = \"30%\"  #making value private\n",
        "        self.__bonusforRatingForRest = \"No Bonus\" #making value private\n",
        "        \n",
        "        \n",
        "    def bonusCalculator(self):\n",
        "        \n",
        "        if self.empRating == 'A':\n",
        "            bonus = self.__bonusforRatingA\n",
        "            msg = \"Bonus for this employee is :\"+ bonus\n",
        "            return msg\n",
        "        elif self.empRating == 'B':\n",
        "            bonus = self.__bonusforRatingB\n",
        "            msg = \"Bonus for this employee is :\"+ bonus\n",
        "            return msg\n",
        "        elif self.empRating == 'C':\n",
        "            bonus = self.__bonusforRatingC\n",
        "            msg = \"Bonus for this employee is :\"+ bonus\n",
        "            return msg\n",
        "        elif self.empRating == 'D':\n",
        "            bonus = self.__bonusforRatingD\n",
        "            msg = \"Bonus for this employee is :\"+ bonus\n",
        "            return msg\n",
        "        else:\n",
        "            bonus = self.__bonusforRatingForRest\n",
        "            msg = \"Bonus for this employee is :\"+ bonus\n",
        "            return msg\n",
        "        \n",
        "    def __changevariable(self , value) : \n",
        "         self.__bonusforRatingB = value"
      ],
      "execution_count": null,
      "outputs": []
    },
    {
      "cell_type": "code",
      "metadata": {
        "id": "Bfm8eP4VVIFK"
      },
      "source": [
        "emp1 = BonusDistribution(1232,'B')\n",
        "emp2 = BonusDistribution(1342,'B')\n",
        "emp3 = BonusDistribution(1031,'E')"
      ],
      "execution_count": null,
      "outputs": []
    },
    {
      "cell_type": "code",
      "metadata": {
        "id": "zZmjBEYmVIFK"
      },
      "source": [
        "emp2._BonusDistribution__changevariable(\"67%\")"
      ],
      "execution_count": null,
      "outputs": []
    },
    {
      "cell_type": "code",
      "metadata": {
        "id": "RVMVRXcFVIFK",
        "outputId": "aca08ef9-12ca-4b74-d13f-9bc233ebe488"
      },
      "source": [
        "emp2.bonusCalculator()"
      ],
      "execution_count": null,
      "outputs": [
        {
          "data": {
            "text/plain": [
              "'Bonus for this employee is :67%'"
            ]
          },
          "execution_count": 159,
          "metadata": {},
          "output_type": "execute_result"
        }
      ]
    },
    {
      "cell_type": "code",
      "metadata": {
        "id": "ga2VndsoVIFL",
        "outputId": "55afa8af-a5ae-4730-f69b-9289aba720a4"
      },
      "source": [
        "emp1.bonusCalculator()"
      ],
      "execution_count": null,
      "outputs": [
        {
          "data": {
            "text/plain": [
              "'Bonus for this employee is :60%'"
            ]
          },
          "execution_count": 133,
          "metadata": {},
          "output_type": "execute_result"
        }
      ]
    },
    {
      "cell_type": "code",
      "metadata": {
        "id": "eEP425bLVIFL"
      },
      "source": [
        "emp1._BonusDistribution__bonusforRatingB = \"90%\""
      ],
      "execution_count": null,
      "outputs": []
    },
    {
      "cell_type": "code",
      "metadata": {
        "id": "Ohr9AesTVIFL",
        "outputId": "74b8e1fb-b28a-4b76-b5dd-0f6ac7d55920"
      },
      "source": [
        "emp1.bonusCalculator()"
      ],
      "execution_count": null,
      "outputs": [
        {
          "data": {
            "text/plain": [
              "'Bonus for this employee is :90%'"
            ]
          },
          "execution_count": 138,
          "metadata": {},
          "output_type": "execute_result"
        }
      ]
    },
    {
      "cell_type": "code",
      "metadata": {
        "id": "gS1Fwk5cVIFL"
      },
      "source": [
        "emp1.chagnevariable(\"85%\")"
      ],
      "execution_count": null,
      "outputs": []
    },
    {
      "cell_type": "code",
      "metadata": {
        "id": "JDmf9A7MVIFL",
        "outputId": "6c7ff5be-b5c3-49f7-fd40-36a3b5debcb9"
      },
      "source": [
        "emp1.bonusCalculator()"
      ],
      "execution_count": null,
      "outputs": [
        {
          "data": {
            "text/plain": [
              "'Bonus for this employee is :85%'"
            ]
          },
          "execution_count": 150,
          "metadata": {},
          "output_type": "execute_result"
        }
      ]
    },
    {
      "cell_type": "code",
      "metadata": {
        "id": "EP-Le7GtVIFL",
        "outputId": "659f1ebf-b447-4493-9c9a-143f6c2cdae6"
      },
      "source": [
        "emp2.bonusCalculator()"
      ],
      "execution_count": null,
      "outputs": [
        {
          "data": {
            "text/plain": [
              "'Bonus for this employee is :60%'"
            ]
          },
          "execution_count": 153,
          "metadata": {},
          "output_type": "execute_result"
        }
      ]
    },
    {
      "cell_type": "code",
      "metadata": {
        "id": "LGxe3iSxVIFL"
      },
      "source": [
        "emp1 = BonusDistribution(1232,'B')\n",
        "emp2 = BonusDistribution(1342,'B')"
      ],
      "execution_count": null,
      "outputs": []
    },
    {
      "cell_type": "code",
      "metadata": {
        "id": "exWZLjBMVIFL"
      },
      "source": [
        "print()"
      ],
      "execution_count": null,
      "outputs": []
    },
    {
      "cell_type": "code",
      "metadata": {
        "id": "XRO2YanrVIFL"
      },
      "source": [
        "class multiplynumeric():\n",
        "    def __init__(self,a) : \n",
        "        self.a = a \n",
        "    \n",
        "    def __mul__(self, other ):\n",
        "        \n",
        "        return self.a - other.a"
      ],
      "execution_count": null,
      "outputs": []
    },
    {
      "cell_type": "code",
      "metadata": {
        "id": "h-JozofTVIFL"
      },
      "source": [
        "mul = multiplynumeric(10)\n",
        "mul1 = multiplynumeric(2)"
      ],
      "execution_count": null,
      "outputs": []
    },
    {
      "cell_type": "code",
      "metadata": {
        "id": "CDUBmjl_VIFM",
        "outputId": "c7e2c73d-6d54-4018-f5b1-3c25ad904bc2"
      },
      "source": [
        "mul * mul1"
      ],
      "execution_count": null,
      "outputs": [
        {
          "data": {
            "text/plain": [
              "8"
            ]
          },
          "execution_count": 182,
          "metadata": {},
          "output_type": "execute_result"
        }
      ]
    },
    {
      "cell_type": "code",
      "metadata": {
        "id": "I5MVdKhHVIFM",
        "outputId": "df55782f-9b6a-4463-da90-cf61434a8b21"
      },
      "source": [
        "9 * 2"
      ],
      "execution_count": null,
      "outputs": [
        {
          "data": {
            "text/plain": [
              "18"
            ]
          },
          "execution_count": 163,
          "metadata": {},
          "output_type": "execute_result"
        }
      ]
    },
    {
      "cell_type": "code",
      "metadata": {
        "id": "7rvM5rRuVIFM"
      },
      "source": [
        "def test(a , b ) :\n",
        "    return a + b "
      ],
      "execution_count": null,
      "outputs": []
    },
    {
      "cell_type": "code",
      "metadata": {
        "id": "lZmuRsrcVIFM",
        "outputId": "d83098bf-e7a0-49fd-99af-ec0fd5c5a639"
      },
      "source": [
        "print(test(5, 6 ))\n",
        "print(test(\"sudh \" , \"kumar\"))\n",
        "print(test([3,4,5,6,7,8] , [ 4,5,6,7,89]))"
      ],
      "execution_count": null,
      "outputs": [
        {
          "name": "stdout",
          "output_type": "stream",
          "text": [
            "11\n",
            "sudh kumar\n",
            "[3, 4, 5, 6, 7, 8, 4, 5, 6, 7, 89]\n"
          ]
        }
      ]
    },
    {
      "cell_type": "code",
      "metadata": {
        "id": "SKrc9jC0VIFM"
      },
      "source": [
        "class ineuron:\n",
        "    def msg(self):\n",
        "        print(\"this is a msg to ineruonr \" )\n",
        "        \n",
        "        \n",
        "class xyz:\n",
        "    \n",
        "    def msg(self):\n",
        "        print(\"this is a msg to xyz\") \n",
        "        \n",
        "              "
      ],
      "execution_count": null,
      "outputs": []
    },
    {
      "cell_type": "code",
      "metadata": {
        "id": "0IuPwYjQVIFM"
      },
      "source": [
        "def test(notes):\n",
        "    notes.msg()"
      ],
      "execution_count": null,
      "outputs": []
    },
    {
      "cell_type": "code",
      "metadata": {
        "id": "uKk9p1ZKVIFM"
      },
      "source": [
        "i = ineuron()\n",
        "x = xyz()"
      ],
      "execution_count": null,
      "outputs": []
    },
    {
      "cell_type": "code",
      "metadata": {
        "id": "Ca8brrv8VIFM",
        "outputId": "c1f88fa9-f5d1-4a01-9424-8d8f2617ef80"
      },
      "source": [
        "test(i)"
      ],
      "execution_count": null,
      "outputs": [
        {
          "name": "stdout",
          "output_type": "stream",
          "text": [
            "this is a msg to ineruonr \n"
          ]
        }
      ]
    },
    {
      "cell_type": "code",
      "metadata": {
        "id": "-9XNBMXWVIFM",
        "outputId": "aa801218-544b-48e6-d06b-36a3c8098d97"
      },
      "source": [
        "test(x)"
      ],
      "execution_count": null,
      "outputs": [
        {
          "name": "stdout",
          "output_type": "stream",
          "text": [
            "this is a msg to xyz\n"
          ]
        }
      ]
    },
    {
      "cell_type": "code",
      "metadata": {
        "id": "lUm9DCbRVIFM"
      },
      "source": [
        "1. inheritnce \n",
        "2 .ploy\n",
        "3 . abstraction\n",
        "4 . encaptuation "
      ],
      "execution_count": null,
      "outputs": []
    },
    {
      "cell_type": "code",
      "metadata": {
        "id": "UFZofcC0VIFM"
      },
      "source": [
        "https://dev.mysql.com/downloads/installer/"
      ],
      "execution_count": null,
      "outputs": []
    }
  ]
}